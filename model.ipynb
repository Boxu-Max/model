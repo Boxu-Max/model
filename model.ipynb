{
 "cells": [
  {
   "cell_type": "code",
   "execution_count": null,
   "metadata": {},
   "outputs": [],
   "source": [
    "\n",
    "# 数据表第一行是列名，列0代表y，列1-6代表x1-x6；\n",
    "# 请给出建模过程及模型评价；\n",
    "# 注意在建模过程中进行降维，并阐述理由\n"
   ]
  },
  {
   "cell_type": "code",
   "execution_count": 1,
   "metadata": {},
   "outputs": [],
   "source": [
    "import numpy as np\n",
    "import matplotlib.pyplot as plt\n",
    "import pandas as pd\n",
    "\n",
    "from sklearn.model_selection import train_test_split,cross_val_score\n",
    "from sklearn.linear_model import LinearRegression as LR\n",
    "from sklearn.model_selection import GridSearchCV\n",
    "from sklearn.metrics import r2_score, mean_squared_error as MSE\n",
    "\n",
    "data = pd.read_csv(\"test_1.csv\")\n",
    "feature_cols = ['1', '2', '3', '4','5','6']\n",
    "label = ['0']\n",
    "\n",
    "x = data[feature_cols] # Features\n",
    "# x_train = np.asarray(x)\n",
    "\n",
    "y = data[label] # Target variable\n",
    "# y_train = np.asarray(y)\n"
   ]
  },
  {
   "cell_type": "code",
   "execution_count": 2,
   "metadata": {},
   "outputs": [
    {
     "data": {
      "text/html": [
       "<div>\n",
       "<style scoped>\n",
       "    .dataframe tbody tr th:only-of-type {\n",
       "        vertical-align: middle;\n",
       "    }\n",
       "\n",
       "    .dataframe tbody tr th {\n",
       "        vertical-align: top;\n",
       "    }\n",
       "\n",
       "    .dataframe thead th {\n",
       "        text-align: right;\n",
       "    }\n",
       "</style>\n",
       "<table border=\"1\" class=\"dataframe\">\n",
       "  <thead>\n",
       "    <tr style=\"text-align: right;\">\n",
       "      <th></th>\n",
       "      <th>0</th>\n",
       "      <th>1</th>\n",
       "      <th>2</th>\n",
       "      <th>3</th>\n",
       "      <th>4</th>\n",
       "      <th>5</th>\n",
       "      <th>6</th>\n",
       "    </tr>\n",
       "  </thead>\n",
       "  <tbody>\n",
       "    <tr>\n",
       "      <td>0</td>\n",
       "      <td>0.003521</td>\n",
       "      <td>0.678261</td>\n",
       "      <td>0.363636</td>\n",
       "      <td>0.604003</td>\n",
       "      <td>0.224299</td>\n",
       "      <td>0.477273</td>\n",
       "      <td>0.066179</td>\n",
       "    </tr>\n",
       "    <tr>\n",
       "      <td>1</td>\n",
       "      <td>0.021127</td>\n",
       "      <td>0.713043</td>\n",
       "      <td>0.418182</td>\n",
       "      <td>0.618797</td>\n",
       "      <td>0.233645</td>\n",
       "      <td>0.636364</td>\n",
       "      <td>0.557475</td>\n",
       "    </tr>\n",
       "    <tr>\n",
       "      <td>2</td>\n",
       "      <td>0.126761</td>\n",
       "      <td>0.730435</td>\n",
       "      <td>0.436364</td>\n",
       "      <td>0.509536</td>\n",
       "      <td>0.271028</td>\n",
       "      <td>0.715909</td>\n",
       "      <td>0.957646</td>\n",
       "    </tr>\n",
       "    <tr>\n",
       "      <td>3</td>\n",
       "      <td>0.454225</td>\n",
       "      <td>0.686957</td>\n",
       "      <td>0.454545</td>\n",
       "      <td>0.597773</td>\n",
       "      <td>0.429907</td>\n",
       "      <td>0.750000</td>\n",
       "      <td>0.258835</td>\n",
       "    </tr>\n",
       "    <tr>\n",
       "      <td>4</td>\n",
       "      <td>0.728873</td>\n",
       "      <td>0.547826</td>\n",
       "      <td>0.454545</td>\n",
       "      <td>0.555343</td>\n",
       "      <td>0.691589</td>\n",
       "      <td>0.772727</td>\n",
       "      <td>0.888624</td>\n",
       "    </tr>\n",
       "    <tr>\n",
       "      <td>...</td>\n",
       "      <td>...</td>\n",
       "      <td>...</td>\n",
       "      <td>...</td>\n",
       "      <td>...</td>\n",
       "      <td>...</td>\n",
       "      <td>...</td>\n",
       "      <td>...</td>\n",
       "    </tr>\n",
       "    <tr>\n",
       "      <td>8265</td>\n",
       "      <td>0.700704</td>\n",
       "      <td>0.139130</td>\n",
       "      <td>0.109091</td>\n",
       "      <td>0.689386</td>\n",
       "      <td>0.373832</td>\n",
       "      <td>0.500000</td>\n",
       "      <td>0.960515</td>\n",
       "    </tr>\n",
       "    <tr>\n",
       "      <td>8266</td>\n",
       "      <td>0.697183</td>\n",
       "      <td>0.130435</td>\n",
       "      <td>0.109091</td>\n",
       "      <td>0.708936</td>\n",
       "      <td>0.373832</td>\n",
       "      <td>0.488636</td>\n",
       "      <td>0.782810</td>\n",
       "    </tr>\n",
       "    <tr>\n",
       "      <td>8267</td>\n",
       "      <td>0.697183</td>\n",
       "      <td>0.130435</td>\n",
       "      <td>0.109091</td>\n",
       "      <td>0.723254</td>\n",
       "      <td>0.373832</td>\n",
       "      <td>0.488636</td>\n",
       "      <td>0.983101</td>\n",
       "    </tr>\n",
       "    <tr>\n",
       "      <td>8268</td>\n",
       "      <td>0.510563</td>\n",
       "      <td>0.130435</td>\n",
       "      <td>0.109091</td>\n",
       "      <td>0.690338</td>\n",
       "      <td>0.373832</td>\n",
       "      <td>0.488636</td>\n",
       "      <td>0.269127</td>\n",
       "    </tr>\n",
       "    <tr>\n",
       "      <td>8269</td>\n",
       "      <td>0.186620</td>\n",
       "      <td>0.165217</td>\n",
       "      <td>0.090909</td>\n",
       "      <td>0.702277</td>\n",
       "      <td>0.299065</td>\n",
       "      <td>0.477273</td>\n",
       "      <td>0.781145</td>\n",
       "    </tr>\n",
       "  </tbody>\n",
       "</table>\n",
       "<p>8270 rows × 7 columns</p>\n",
       "</div>"
      ],
      "text/plain": [
       "             0         1         2         3         4         5         6\n",
       "0     0.003521  0.678261  0.363636  0.604003  0.224299  0.477273  0.066179\n",
       "1     0.021127  0.713043  0.418182  0.618797  0.233645  0.636364  0.557475\n",
       "2     0.126761  0.730435  0.436364  0.509536  0.271028  0.715909  0.957646\n",
       "3     0.454225  0.686957  0.454545  0.597773  0.429907  0.750000  0.258835\n",
       "4     0.728873  0.547826  0.454545  0.555343  0.691589  0.772727  0.888624\n",
       "...        ...       ...       ...       ...       ...       ...       ...\n",
       "8265  0.700704  0.139130  0.109091  0.689386  0.373832  0.500000  0.960515\n",
       "8266  0.697183  0.130435  0.109091  0.708936  0.373832  0.488636  0.782810\n",
       "8267  0.697183  0.130435  0.109091  0.723254  0.373832  0.488636  0.983101\n",
       "8268  0.510563  0.130435  0.109091  0.690338  0.373832  0.488636  0.269127\n",
       "8269  0.186620  0.165217  0.090909  0.702277  0.299065  0.477273  0.781145\n",
       "\n",
       "[8270 rows x 7 columns]"
      ]
     },
     "execution_count": 2,
     "metadata": {},
     "output_type": "execute_result"
    }
   ],
   "source": [
    "data"
   ]
  },
  {
   "cell_type": "code",
   "execution_count": 3,
   "metadata": {},
   "outputs": [],
   "source": [
    "# 将共计8270组数据，让其训练集/测试集 = 5/1\n",
    "x_train, x_test, y_train, y_test = train_test_split(x, y, test_size=0.2, random_state=1)\n",
    "# x_train.shape"
   ]
  },
  {
   "cell_type": "code",
   "execution_count": 4,
   "metadata": {},
   "outputs": [],
   "source": [
    "from sklearn.decomposition import PCA\n",
    "pca = PCA(n_components=3)\n",
    "\n",
    "pca_x_train = pca.fit_transform(x_train)\n",
    "pca_x_test = pca.transform(x_test)"
   ]
  },
  {
   "cell_type": "code",
   "execution_count": 5,
   "metadata": {},
   "outputs": [
    {
     "name": "stdout",
     "output_type": "stream",
     "text": [
      "[[-0.00350453 -0.1698026   0.25904942]]\n",
      "[0.85697126]\n"
     ]
    }
   ],
   "source": [
    "reg = LR().fit(pca_x_train, y_train)\n",
    "y_pred1 = reg.predict(pca_x_test)\n",
    "\n",
    "# y_pred\n",
    "print(reg.coef_)\n",
    "print(reg.intercept_)"
   ]
  },
  {
   "cell_type": "code",
   "execution_count": 6,
   "metadata": {},
   "outputs": [
    {
     "data": {
      "text/plain": [
       "0.005218875221436717"
      ]
     },
     "execution_count": 6,
     "metadata": {},
     "output_type": "execute_result"
    }
   ],
   "source": [
    "MSE(y_test, y_pred1)"
   ]
  },
  {
   "cell_type": "code",
   "execution_count": 7,
   "metadata": {},
   "outputs": [
    {
     "data": {
      "text/plain": [
       "0    0.084478\n",
       "dtype: float64"
      ]
     },
     "execution_count": 7,
     "metadata": {},
     "output_type": "execute_result"
    }
   ],
   "source": [
    "np.sqrt(MSE(y_test, y_pred1))/y_test.mean()"
   ]
  },
  {
   "cell_type": "code",
   "execution_count": 8,
   "metadata": {},
   "outputs": [
    {
     "data": {
      "text/plain": [
       "0.2672068019219995"
      ]
     },
     "execution_count": 8,
     "metadata": {},
     "output_type": "execute_result"
    }
   ],
   "source": [
    "r2_score(y_test,y_pred1)"
   ]
  },
  {
   "cell_type": "code",
   "execution_count": 9,
   "metadata": {},
   "outputs": [
    {
     "data": {
      "image/png": "[encoded data removed]",
      "text/plain": [
       "<Figure size 432x288 with 1 Axes>"
      ]
     },
     "metadata": {
      "needs_background": "light"
     },
     "output_type": "display_data"
    }
   ],
   "source": [
    "t = np.arange(len(x_test))\n",
    "plt.plot(t, y_test, 'r-', linewidth=2, label='Actual')\n",
    "plt.plot(t, y_pred1, 'g-', linewidth=2, label='Predicted')\n",
    "plt.title('Actual test y & Predicted test y')\n",
    "plt.legend(loc='upper right')\n",
    "plt.grid()\n",
    "plt.show()"
   ]
  },
  {
   "cell_type": "code",
   "execution_count": null,
   "metadata": {},
   "outputs": [],
   "source": [
    "# using neural network to do regression"
   ]
  },
  {
   "cell_type": "code",
   "execution_count": 10,
   "metadata": {},
   "outputs": [
    {
     "name": "stderr",
     "output_type": "stream",
     "text": [
      "Using TensorFlow backend.\n"
     ]
    },
    {
     "name": "stdout",
     "output_type": "stream",
     "text": [
      "Epoch 1/30\n",
      "6616/6616 [==============================] - 1s 184us/step - loss: 0.0588 \n",
      "Epoch 2/30\n",
      "6616/6616 [==============================] - 1s 160us/step - loss: 0.0035\n",
      "Epoch 3/30\n",
      "6616/6616 [==============================] - 1s 157us/step - loss: 0.0027\n",
      "Epoch 4/30\n",
      "6616/6616 [==============================] - 1s 153us/step - loss: 0.0024\n",
      "Epoch 5/30\n",
      "6616/6616 [==============================] - 1s 153us/step - loss: 0.0023\n",
      "Epoch 6/30\n",
      "6616/6616 [==============================] - 1s 153us/step - loss: 0.0023\n",
      "Epoch 7/30\n",
      "6616/6616 [==============================] - 1s 165us/step - loss: 0.0022\n",
      "Epoch 8/30\n",
      "6616/6616 [==============================] - 1s 157us/step - loss: 0.0022\n",
      "Epoch 9/30\n",
      "6616/6616 [==============================] - 1s 155us/step - loss: 0.0022 0s \n",
      "Epoch 10/30\n",
      "6616/6616 [==============================] - 1s 155us/step - loss: 0.0022\n",
      "Epoch 11/30\n",
      "6616/6616 [==============================] - 1s 159us/step - loss: 0.0021\n",
      "Epoch 12/30\n",
      "6616/6616 [==============================] - 1s 157us/step - loss: 0.0021 0s\n",
      "Epoch 13/30\n",
      "6616/6616 [==============================] - 1s 153us/step - loss: 0.0021\n",
      "Epoch 14/30\n",
      "6616/6616 [==============================] - 1s 154us/step - loss: 0.0021\n",
      "Epoch 15/30\n",
      "6616/6616 [==============================] - 1s 158us/step - loss: 0.0021 0s - loss\n",
      "Epoch 16/30\n",
      "6616/6616 [==============================] - 1s 159us/step - loss: 0.0020\n",
      "Epoch 17/30\n",
      "6616/6616 [==============================] - 1s 157us/step - loss: 0.0021\n",
      "Epoch 18/30\n",
      "6616/6616 [==============================] - 1s 158us/step - loss: 0.0020\n",
      "Epoch 19/30\n",
      "6616/6616 [==============================] - 1s 158us/step - loss: 0.0020\n",
      "Epoch 20/30\n",
      "6616/6616 [==============================] - 1s 160us/step - loss: 0.0019\n",
      "Epoch 21/30\n",
      "6616/6616 [==============================] - 1s 158us/step - loss: 0.0020\n",
      "Epoch 22/30\n",
      "6616/6616 [==============================] - 1s 166us/step - loss: 0.0019\n",
      "Epoch 23/30\n",
      "6616/6616 [==============================] - 1s 161us/step - loss: 0.0019\n",
      "Epoch 24/30\n",
      "6616/6616 [==============================] - 1s 158us/step - loss: 0.0019\n",
      "Epoch 25/30\n",
      "6616/6616 [==============================] - 1s 217us/step - loss: 0.0019\n",
      "Epoch 26/30\n",
      "6616/6616 [==============================] - 2s 254us/step - loss: 0.0020 0s - loss: 0.0\n",
      "Epoch 27/30\n",
      "6616/6616 [==============================] - 2s 363us/step - loss: 0.0019\n",
      "Epoch 28/30\n",
      "6616/6616 [==============================] - 1s 203us/step - loss: 0.0019\n",
      "Epoch 29/30\n",
      "6616/6616 [==============================] - 1s 157us/step - loss: 0.0019\n",
      "Epoch 30/30\n",
      "6616/6616 [==============================] - 1s 153us/step - loss: 0.0019\n"
     ]
    },
    {
     "data": {
      "text/plain": [
       "<keras.callbacks.callbacks.History at 0x14422c650>"
      ]
     },
     "execution_count": 10,
     "metadata": {},
     "output_type": "execute_result"
    }
   ],
   "source": [
    "from keras.layers import Dense, Activation\n",
    "from keras.models import Sequential\n",
    "\n",
    "model = Sequential()\n",
    "\n",
    "# Adding the input layer and the first hidden layer\n",
    "model.add(Dense(64, activation = 'relu', input_dim = 6))\n",
    "\n",
    "# Adding the second hidden layer\n",
    "model.add(Dense(units = 8, activation = 'relu'))\n",
    "\n",
    "# Adding the output layer\n",
    "model.add(Dense(units = 1))\n",
    "\n",
    "model.compile(optimizer = 'adam',loss = 'mean_squared_error')\n",
    "\n",
    "model.fit(x_train, y_train, batch_size = 10, epochs = 30)"
   ]
  },
  {
   "cell_type": "code",
   "execution_count": 11,
   "metadata": {},
   "outputs": [],
   "source": [
    "y_pred2 = model.predict(x_test)"
   ]
  },
  {
   "cell_type": "code",
   "execution_count": 12,
   "metadata": {},
   "outputs": [
    {
     "data": {
      "text/plain": [
       "0.0019198530786488127"
      ]
     },
     "execution_count": 12,
     "metadata": {},
     "output_type": "execute_result"
    }
   ],
   "source": [
    "MSE(y_test, y_pred2)"
   ]
  },
  {
   "cell_type": "code",
   "execution_count": 13,
   "metadata": {},
   "outputs": [
    {
     "data": {
      "text/plain": [
       "0    0.051238\n",
       "dtype: float64"
      ]
     },
     "execution_count": 13,
     "metadata": {},
     "output_type": "execute_result"
    }
   ],
   "source": [
    "np.sqrt(MSE(y_test, y_pred2))/y_test.mean()"
   ]
  },
  {
   "cell_type": "code",
   "execution_count": 14,
   "metadata": {},
   "outputs": [
    {
     "data": {
      "text/plain": [
       "0.7304294090871822"
      ]
     },
     "execution_count": 14,
     "metadata": {},
     "output_type": "execute_result"
    }
   ],
   "source": [
    "r2_score(y_test,y_pred2)"
   ]
  },
  {
   "cell_type": "code",
   "execution_count": 15,
   "metadata": {},
   "outputs": [
    {
     "data": {
      "image/png": "[encoded data removed]",
      "text/plain": [
       "<Figure size 432x288 with 1 Axes>"
      ]
     },
     "metadata": {
      "needs_background": "light"
     },
     "output_type": "display_data"
    }
   ],
   "source": [
    "t = np.arange(len(x_test))\n",
    "plt.plot(t, y_test, 'r-', linewidth=2, label='Actual')\n",
    "plt.plot(t, y_pred2, 'g-', linewidth=2, label='Predicted')\n",
    "plt.title('Actual test y & Predicted test y')\n",
    "plt.legend(loc='upper right')\n",
    "plt.grid()\n",
    "plt.show()"
   ]
  },
  {
   "cell_type": "code",
   "execution_count": null,
   "metadata": {},
   "outputs": [],
   "source": []
  }
 ],
 "metadata": {
  "kernelspec": {
   "display_name": "Python 3",
   "language": "python",
   "name": "python3"
  },
  "language_info": {
   "codemirror_mode": {
    "name": "ipython",
    "version": 3
   },
   "file_extension": ".py",
   "mimetype": "text/x-python",
   "name": "python",
   "nbconvert_exporter": "python",
   "pygments_lexer": "ipython3",
   "version": "3.7.4"
  }
 },
 "nbformat": 4,
 "nbformat_minor": 2
}
